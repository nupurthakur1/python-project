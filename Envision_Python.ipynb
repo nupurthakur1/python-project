{
 "cells": [
  {
   "cell_type": "code",
   "execution_count": 33,
   "metadata": {},
   "outputs": [],
   "source": [
    "#users_password_info_dict : dictionary of dictionaries, every dictionary will have 2 attribures-> password, password_hash\n",
    "#username would be the key of the dictionary\n",
    "# from hashlib import sha256\n",
    "import hashlib\n",
    "\n",
    "users_password_info_dict ={\n",
    "    'nupur':{\n",
    "        'password':'Password1', \n",
    "        'password_hash': 'xxyyyyxxx'},\n",
    "    'shivi':{\n",
    "        'password': 'Password2', \n",
    "        'password_hash': 'xxyyxxxx'},\n",
    "    'shweta':{\n",
    "        'password': 'Password3',\n",
    "        'password_hash': None}\n",
    "}"
   ]
  },
  {
   "cell_type": "code",
   "execution_count": 32,
   "metadata": {},
   "outputs": [
    {
     "name": "stdout",
     "output_type": "stream",
     "text": [
      "The hexadecimal equivalent of SHA256 is : \n",
      "19513fdc9da4fb72a4a05eb66917548d3c90ff94d5419e1f2363eea89dfee1dd\n",
      "\r\n"
     ]
    },
    {
     "data": {
      "text/plain": [
       "'Wrong Password'"
      ]
     },
     "execution_count": 32,
     "metadata": {},
     "output_type": "execute_result"
    }
   ],
   "source": [
    "_login('nupur', 'Password1')"
   ]
  },
  {
   "cell_type": "code",
   "execution_count": 31,
   "metadata": {},
   "outputs": [],
   "source": [
    "def _login(username, password):\n",
    "\n",
    "    user_data =  _check_user_existance(username)\n",
    "    if user_data is None:\n",
    "        return \"User doesn't exist!\"\n",
    "    else:\n",
    "        #check hash column\n",
    "        hash_password = _convert_to_hash(password)\n",
    "\n",
    "        hash_value, stored_password = _check_hash_column(user_data)\n",
    "                \n",
    "        if hash_value is None and stored_password == password:\n",
    "            _update_hash_column(username, hash_password)\n",
    "            return 'Login Success'\n",
    "\n",
    "        if hash_value == hash_password:\n",
    "            return 'Login Success'\n",
    "        else:\n",
    "            return 'Wrong Password'"
   ]
  },
  {
   "cell_type": "code",
   "execution_count": 2,
   "metadata": {},
   "outputs": [],
   "source": [
    "def _check_user_existance(username):\n",
    "    user_data = users_password_info_dict.get(username)\n",
    "    return user_data"
   ]
  },
  {
   "cell_type": "code",
   "execution_count": 8,
   "metadata": {},
   "outputs": [],
   "source": [
    "def _convert_to_hash(password):\n",
    "    str = password\n",
    "    result = hashlib.sha256(str.encode()) \n",
    "    # printing the equivalent hexadecimal value. \n",
    "    print(\"The hexadecimal equivalent of SHA256 is : \") \n",
    "    print(result.hexdigest()) \n",
    "\n",
    "    print (\"\\r\")"
   ]
  },
  {
   "cell_type": "code",
   "execution_count": 25,
   "metadata": {},
   "outputs": [],
   "source": [
    "def _check_hash_column(user_data):\n",
    "    password = user_data.get('password')\n",
    "    hash_password = user_data.get('password_hash')\n",
    "\n",
    "    return hash_password, password\n",
    "\n",
    "def _update_hash_column(username, hash_password):    \n",
    "    users_password_info_dict[username]['password_hash'] = hash_password"
   ]
  },
  {
   "cell_type": "code",
   "execution_count": null,
   "metadata": {},
   "outputs": [],
   "source": []
  }
 ],
 "metadata": {
  "kernelspec": {
   "display_name": "Python 3",
   "language": "python",
   "name": "python3"
  },
  "language_info": {
   "codemirror_mode": {
    "name": "ipython",
    "version": 3
   },
   "file_extension": ".py",
   "mimetype": "text/x-python",
   "name": "python",
   "nbconvert_exporter": "python",
   "pygments_lexer": "ipython3",
   "version": "3.7.6"
  }
 },
 "nbformat": 4,
 "nbformat_minor": 4
}
