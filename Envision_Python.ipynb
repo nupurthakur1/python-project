{
 "cells": [
  {
   "cell_type": "code",
   "execution_count": 8,
   "metadata": {},
   "outputs": [
    {
     "data": {
      "text/plain": [
       "{'nupur': {'password': 'Password1', 'password_hash': 'xxyyyyxxx'},\n",
       " 'shivi': {'password': 'Password2', 'password_hash': 'xxyyxxxx'},\n",
       " 'shweta': {'password': 'Password3', 'password_hash': None}}"
      ]
     },
     "execution_count": 8,
     "metadata": {},
     "output_type": "execute_result"
    }
   ],
   "source": [
    "#users_password_info_dict : dictionary of dictionaries, every dictionary will have 2 attribures-> password, password_hash\n",
    "#username would be the key of the dictionary\n",
    "import hashlib\n",
    "\n",
    "users_password_info_dict ={\n",
    "    'nupur':{\n",
    "        'password':'Password1', \n",
    "        'password_hash': 'xxyyyyxxx'},\n",
    "    'shivi':{\n",
    "        'password': 'Password2', \n",
    "        'password_hash': 'xxyyxxxx'},\n",
    "    'shweta':{\n",
    "        'password': 'Password3',\n",
    "        'password_hash': None}\n",
    "}\n",
    "# users_password_info_dict['nupur']['password'] = 'sharath'\n",
    "users_password_info_dict"
   ]
  },
  {
   "cell_type": "code",
   "execution_count": 2,
   "metadata": {},
   "outputs": [],
   "source": [
    "def _login(username, password):\n",
    "\n",
    "    user_data =  _check_user_existence(username)\n",
    "    if user_data is None:\n",
    "        return \"User doesn't exist!\"\n",
    "    else:\n",
    "        #convert incoming password string to hash\n",
    "        new_hash_password = _convert_to_hash(password)\n",
    "        #check hash column\n",
    "        stored_hash_password, stored_str_password = _check_hash_column(user_data)\n",
    "        \n",
    "        if stored_str_password == password or stored_hash_password == None:\n",
    "                users_password_info_dict[username]['password_hash'] = new_hash_password\n",
    "                return 'Login Success'\n",
    "        else:\n",
    "            return 'Wrong Password'"
   ]
  },
  {
   "cell_type": "code",
   "execution_count": 3,
   "metadata": {},
   "outputs": [],
   "source": [
    "def _check_user_existence(username):\n",
    "    # get password and hashed password for the specific user\n",
    "    user_data = users_password_info_dict.get(username)\n",
    "    return user_data"
   ]
  },
  {
   "cell_type": "code",
   "execution_count": 4,
   "metadata": {},
   "outputs": [],
   "source": [
    "def _convert_to_hash(password):\n",
    "    result = hashlib.sha256(password.encode()) \n",
    "    # printing the equivalent hexadecimal value. \n",
    "    # print(\"The hexadecimal equivalent of SHA256 is : \") \n",
    "    # print(result.hexdigest()) \n",
    "    return result.hexdigest()\n",
    "\n",
    "    print (\"\\r\")"
   ]
  },
  {
   "cell_type": "code",
   "execution_count": 5,
   "metadata": {},
   "outputs": [],
   "source": [
    "def _check_hash_column(user_data):\n",
    "    password = user_data.get('password')\n",
    "    hash_password = user_data.get('password_hash')\n",
    "    return hash_password, password"
   ]
  },
  {
   "cell_type": "code",
   "execution_count": 6,
   "metadata": {},
   "outputs": [
    {
     "data": {
      "text/plain": [
       "'Login Success'"
      ]
     },
     "execution_count": 6,
     "metadata": {},
     "output_type": "execute_result"
    }
   ],
   "source": [
    "_login('shivi', 'Password2')"
   ]
  },
  {
   "cell_type": "code",
   "execution_count": 7,
   "metadata": {},
   "outputs": [
    {
     "data": {
      "text/plain": [
       "{'nupur': {'password': 'Password1', 'password_hash': 'xxyyyyxxx'},\n",
       " 'shivi': {'password': 'Password2',\n",
       "  'password_hash': '1be0222750aaf3889ab95b5d593ba12e4ff1046474702d6b4779f4b527305b23'},\n",
       " 'shweta': {'password': 'Password3', 'password_hash': None}}"
      ]
     },
     "execution_count": 7,
     "metadata": {},
     "output_type": "execute_result"
    }
   ],
   "source": [
    "users_password_info_dict"
   ]
  },
  {
   "cell_type": "code",
   "execution_count": null,
   "metadata": {},
   "outputs": [],
   "source": []
  }
 ],
 "metadata": {
  "kernelspec": {
   "display_name": "Python 3",
   "language": "python",
   "name": "python3"
  },
  "language_info": {
   "codemirror_mode": {
    "name": "ipython",
    "version": 3
   },
   "file_extension": ".py",
   "mimetype": "text/x-python",
   "name": "python",
   "nbconvert_exporter": "python",
   "pygments_lexer": "ipython3",
   "version": "3.7.6"
  }
 },
 "nbformat": 4,
 "nbformat_minor": 4
}
